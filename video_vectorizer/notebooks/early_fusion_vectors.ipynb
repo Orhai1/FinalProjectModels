{
  "nbformat": 4,
  "nbformat_minor": 0,
  "metadata": {
    "colab": {
      "private_outputs": true,
      "provenance": []
    },
    "kernelspec": {
      "name": "python3",
      "display_name": "Python 3"
    },
    "language_info": {
      "name": "python"
    }
  },
  "cells": [
    {
      "cell_type": "code",
      "execution_count": null,
      "metadata": {
        "id": "jpXv4UvTuOn1"
      },
      "outputs": [],
      "source": [
        "from google.colab import drive\n",
        "drive.mount('/content/drive')\n",
        "\n",
        "VEC_DIR   = '/content/drive/MyDrive/video_vectorizer/cnn_output'\n",
        "AUX_ALL_NPZ = '/content/drive/MyDrive/video_vectorizer/final_npz/aux_features_clean.npz'\n",
        "OUT_NPZ = '/content/drive/MyDrive/video_vectorizer/final_npz/bigru_early_fusion2.npz'\n"
      ]
    },
    {
      "cell_type": "code",
      "source": [
        "import pandas as pd\n",
        "import numpy as np\n",
        "import glob\n",
        "import os\n",
        "import tqdm\n",
        "\n",
        "# keep only the three target classes\n",
        "TARGET_CLASSES = {'Hamas', 'Fatah', 'Unaffiliated'}\n",
        "\n",
        "aux_all   = np.load(AUX_ALL_NPZ, allow_pickle=True)\n",
        "X_aux_all = aux_all['X']             # (N, p)\n",
        "y_all     = aux_all['y']             # (N,)  str or int\n",
        "ids_all   = aux_all['video_id']      # (N,)\n",
        "\n"
      ],
      "metadata": {
        "id": "U6AFOWeUuuNs"
      },
      "execution_count": null,
      "outputs": []
    },
    {
      "cell_type": "code",
      "source": [
        "X_rows, y_rows, id_rows = [], [], []\n",
        "\n",
        "for vec_aux, label, vid in tqdm.tqdm(zip(X_aux_all, y_all, ids_all),\n",
        "                                     total=len(y_all),\n",
        "                                     desc='Pairing', unit='vid'):\n",
        "    label = str(label)\n",
        "    vid   = str(vid)\n",
        "\n",
        "    if TARGET_CLASSES and label not in TARGET_CLASSES:\n",
        "        continue                      # skip unwanted label\n",
        "\n",
        "    extension_vec_path = os.path.join(VEC_DIR, f'{vid}_bigru.npy')\n",
        "    if not os.path.exists(extension_vec_path):\n",
        "        continue                      # skip if no Bi-GRU vector\n",
        "\n",
        "    vec_video = np.load(extension_vec_path)   # (768,)\n",
        "    X_rows.append(np.hstack([vec_video, vec_aux]))\n",
        "    y_rows.append(label)\n",
        "    id_rows.append(vid)\n",
        "\n",
        "# stack & save --------------------------------------------------------\n",
        "X = np.vstack(X_rows).astype(np.float32)     # (M, 768+p)\n",
        "y = np.array(y_rows)                         # (M,)  strings\n",
        "video_id = np.array(id_rows)                 # (M,)\n",
        "\n",
        "np.savez_compressed(OUT_NPZ, X=X, y=y, video_id=video_id)\n",
        "print(f'✓ early_fusion.npz  written → {OUT_NPZ}  |  shape {X.shape}')"
      ],
      "metadata": {
        "collapsed": true,
        "id": "c1JPmEm8vETO"
      },
      "execution_count": null,
      "outputs": []
    }
  ]
}